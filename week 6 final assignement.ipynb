{
 "cells": [
  {
   "cell_type": "markdown",
   "metadata": {},
   "source": [
    "# Tools for Data Science - Final Assignment: Create and Share Your Jupyter Notebook\""
   ]
  },
  {
   "cell_type": "markdown",
   "metadata": {},
   "source": [
    "Welcome to this final assignment! In this notebook, we will explore various Data Science Tools and their Ecosystem. The aim is to demonstrate the creation of a Jupyter Notebook, incorporating both code and markdown cells. By the end of this exercise, the notebook will be shared publicly through GitHub, showcasing skills in notebook creation, usage of markdown for documentation, and basic coding exercises in the context of data science."
   ]
  },
  {
   "cell_type": "markdown",
   "metadata": {},
   "source": [
    "**Objectives:**\n",
    "\n",
    "- Explore and list popular languages used in Data Science, like Python and R.\n",
    "- Identify key libraries and tools that enhance data science workflows, such as Pandas and Jupyter Notebooks.\n",
    "- Understand and demonstrate basic arithmetic operations in Python.\n",
    "- Learn to convert units (e.g., from minutes to hours) using Python arithmetic.\n",
    "- Familiarize with the use of Markdown and code cells in Jupyter Notebooks for effective documentation and coding."
   ]
  },
  {
   "cell_type": "markdown",
   "metadata": {},
   "source": [
    "## Popular Data Science Languages\n",
    "\n",
    "Some of the popular languages that Data Scientists use are:\n",
    "\n",
    "1. **Python**: Widely used for its simplicity and vast library ecosystem.\n",
    "2. **R**: Excellent for statistical analysis and graphical representations.\n",
    "3. **SQL**: Essential for database management and data manipulation.\n",
    "4. **Java**: Often used in big data environments.\n",
    "5. **Scala**: Commonly used with Apache Spark for big data processing.\n",
    "6. **Julia**: Gaining popularity for high-performance numerical analysis."
   ]
  },
  {
   "cell_type": "markdown",
   "metadata": {},
   "source": [
    "## Commonly Used Data Science Libraries\n",
    "\n",
    "Some of the commonly used libraries by Data Scientists include:\n",
    "\n",
    "1. **Pandas**: A Python library for data manipulation and analysis, providing data structures like DataFrames.\n",
    "2. **NumPy**: Essential for numerical computing in Python, offering support for large, multi-dimensional arrays and matrices.\n",
    "3. **Matplotlib**: A Python 2D plotting library which produces publication quality figures in a variety of formats.\n",
    "4. **Scikit-learn**: Widely used for machine learning and data mining tasks in Python.\n",
    "5. **TensorFlow**: An open-source software library for machine learning, particularly known for neural networks.\n",
    "6. **Keras**: An open-source software library that provides a Python interface for artificial neural networks, running on top of TensorFlow."
   ]
  },
  {
   "cell_type": "markdown",
   "metadata": {
    "tags": []
   },
   "source": [
    "## Some Data Science Tools\n",
    "\n",
    "| Data Science Tools | Type         | Primary Use                   |\n",
    "|--------------------|--------------|-------------------------------|\n",
    "| Jupyter Notebook   | IDE          | Interactive Development, Data Analysis |\n",
    "| RStudio            | IDE          | Statistical Analysis, Data Visualization |\n",
    "| Apache Zeppelin    | Notebook IDE | Data Ingestion, Data Discovery, Data Analytics, and Data Visualization & Collaboration |"
   ]
  },
  {
   "cell_type": "markdown",
   "metadata": {},
   "source": [
    "### Below are a few examples of evaluating arithmetic expressions in Python\n",
    "\n",
    "In the following code cells, we'll explore basic arithmetic operations such as addition, multiplication, and division. These fundamental operations are essential for any kind of numerical analysis and data manipulation in Python."
   ]
  },
  {
   "cell_type": "code",
   "execution_count": 1,
   "metadata": {
    "tags": []
   },
   "outputs": [
    {
     "data": {
      "text/plain": [
       "17"
      ]
     },
     "execution_count": 1,
     "metadata": {},
     "output_type": "execute_result"
    }
   ],
   "source": [
    "# This a simple arithmetic expression to multiply then add integers\n",
    "result = (3*4)+5\n",
    "result"
   ]
  },
  {
   "cell_type": "code",
   "execution_count": 2,
   "metadata": {
    "tags": []
   },
   "outputs": [
    {
     "data": {
      "text/plain": [
       "3.3333333333333335"
      ]
     },
     "execution_count": 2,
     "metadata": {},
     "output_type": "execute_result"
    }
   ],
   "source": [
    "# This will convert 200 minutes to hours by dividing by 60\n",
    "hours = 200 / 60\n",
    "hours"
   ]
  },
  {
   "cell_type": "markdown",
   "metadata": {},
   "source": [
    "## Author\n",
    "Justin Ephraim A. Acob"
   ]
  }
 ],
 "metadata": {
  "kernelspec": {
   "display_name": "Python 3 (ipykernel)",
   "language": "python",
   "name": "python3"
  },
  "language_info": {
   "codemirror_mode": {
    "name": "ipython",
    "version": 3
   },
   "file_extension": ".py",
   "mimetype": "text/x-python",
   "name": "python",
   "nbconvert_exporter": "python",
   "pygments_lexer": "ipython3",
   "version": "3.11.5"
  }
 },
 "nbformat": 4,
 "nbformat_minor": 4
}
